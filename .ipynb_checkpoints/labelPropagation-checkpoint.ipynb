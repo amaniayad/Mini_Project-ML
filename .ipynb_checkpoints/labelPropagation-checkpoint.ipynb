{
 "cells": [
  {
   "cell_type": "code",
   "execution_count": 13,
   "id": "91db4ec9-d43a-4e9b-80e0-5c54e12134b6",
   "metadata": {},
   "outputs": [],
   "source": [
    "import pandas as pd\n",
    "df = pd.read_csv(\"./flight_delays_train/flight_delays_train.csv\")\n",
    "ud = pd.read_csv(\"./flight_delays_test/flight_delays_test.csv\")"
   ]
  },
  {
   "cell_type": "code",
   "execution_count": 14,
   "id": "3e75bff8-96de-44a4-ac43-b98b43ef16f5",
   "metadata": {},
   "outputs": [
    {
     "name": "stdout",
     "output_type": "stream",
     "text": [
      "1917.0 -643.0\n"
     ]
    }
   ],
   "source": [
    "import numpy as np \n",
    "a=np.percentile(df['Distance'],75)\n",
    "b=np.percentile(df['Distance'],25)\n",
    "IQRA=a-b\n",
    "UpperA=(a+1.5*IQRA)\n",
    "LowerA=(b-1.5*IQRA)\n",
    "print(UpperA,LowerA)\n",
    "\n",
    "for i in range(len(df)):\n",
    "    if (df.at[i,'Distance']>UpperA):\n",
    "         df.at[i,'Distance']=UpperA  \n",
    "    elif (df.at[i,'Distance']<LowerA):\n",
    "        df.at[i,'Distance']=LowerA"
   ]
  },
  {
   "cell_type": "code",
   "execution_count": 15,
   "id": "7df376b8-dd7f-4d8c-b481-efef76ed2f9f",
   "metadata": {},
   "outputs": [
    {
     "name": "stdout",
     "output_type": "stream",
     "text": [
      "1888 -619\n"
     ]
    }
   ],
   "source": [
    "a=np.percentile(ud['Distance'],75)\n",
    "b=np.percentile(ud['Distance'],25)\n",
    "IQRA=a-b\n",
    "UpperA=int((a+1.5*IQRA))\n",
    "LowerA=int((b-1.5*IQRA))\n",
    "print(UpperA,LowerA)\n",
    "\n",
    "for i in range(len(ud)):\n",
    "    if (ud.at[i,'Distance']>UpperA):\n",
    "         ud.at[i,'Distance']=UpperA  \n",
    "    elif (ud.at[i,'Distance']<LowerA):\n",
    "        ud.at[i,'Distance']=LowerA"
   ]
  },
  {
   "cell_type": "code",
   "execution_count": 16,
   "id": "4c75937b-6f6f-4616-ac24-9103beac5587",
   "metadata": {},
   "outputs": [],
   "source": [
    "from sklearn.preprocessing import OrdinalEncoder\n",
    "ordinal_encoder = OrdinalEncoder(handle_unknown='use_encoded_value', unknown_value=-1)\n",
    "categorical_columns = ['UniqueCarrier', 'Origin', 'Dest']\n",
    "\n",
    "df[categorical_columns] = ordinal_encoder.fit_transform(df[categorical_columns])\n",
    "ud[categorical_columns] = ordinal_encoder.transform(ud[categorical_columns])"
   ]
  },
  {
   "cell_type": "code",
   "execution_count": 17,
   "id": "3a32f800-0152-4f3a-9c07-c6c44961ea0a",
   "metadata": {},
   "outputs": [],
   "source": [
    "from sklearn.preprocessing import MinMaxScaler\n",
    "x=df.drop(columns=['dep_delayed_15min'])\n",
    "y=df['dep_delayed_15min']\n",
    "cols=['Month','DayofMonth','DayOfWeek']\n",
    "for i in range(len(cols)):\n",
    "    x[cols[i]] = x[cols[i]].str.replace('c-', '').astype(float)\n",
    "    ud[cols[i]] = ud[cols[i]].str.replace('c-', '').astype(float)   "
   ]
  },
  {
   "cell_type": "code",
   "execution_count": 18,
   "id": "1b761b44-fdc6-444f-9929-e26f1fb64129",
   "metadata": {},
   "outputs": [],
   "source": [
    "scaler=MinMaxScaler()\n",
    "for column in x.columns:\n",
    "    x[column] = scaler.fit_transform(pd.DataFrame(x[column]))\n",
    "    ud[column] = scaler.fit_transform(pd.DataFrame(ud[column])) "
   ]
  },
  {
   "cell_type": "code",
   "execution_count": 19,
   "id": "37953818-c16b-40fb-a290-bf92913034b6",
   "metadata": {},
   "outputs": [],
   "source": [
    "from sklearn.preprocessing import LabelEncoder\n",
    "# Assuming pseudo_labels are integers and y is an object\n",
    "label_encoder = LabelEncoder()\n",
    "# Encode the original labels y\n",
    "y = label_encoder.fit_transform(y)"
   ]
  },
  {
   "cell_type": "code",
   "execution_count": 24,
   "id": "b69d6826-1bd8-4ec0-a102-325738c2e1da",
   "metadata": {},
   "outputs": [
    {
     "name": "stdout",
     "output_type": "stream",
     "text": [
      "int32\n"
     ]
    },
    {
     "name": "stderr",
     "output_type": "stream",
     "text": [
      "C:\\Users\\lenovo\\AppData\\Local\\Programs\\Python\\Python312\\Lib\\site-packages\\sklearn\\base.py:458: UserWarning: X has feature names, but LabelPropagation was fitted without feature names\n",
      "  warnings.warn(\n",
      "C:\\Users\\lenovo\\AppData\\Local\\Programs\\Python\\Python312\\Lib\\site-packages\\sklearn\\base.py:458: UserWarning: X has feature names, but LabelPropagation was fitted without feature names\n",
      "  warnings.warn(\n"
     ]
    },
    {
     "name": "stdout",
     "output_type": "stream",
     "text": [
      "Accuracy on labeled data: 0.86903\n",
      "Precision on labeled data: 0.864522504555622\n",
      "Recall on labeled data: 0.86903\n",
      "F1-score on labeled data: 0.8495893911581347\n"
     ]
    },
    {
     "name": "stderr",
     "output_type": "stream",
     "text": [
      "C:\\Users\\lenovo\\AppData\\Local\\Programs\\Python\\Python312\\Lib\\site-packages\\sklearn\\semi_supervised\\_label_propagation.py:230: RuntimeWarning: invalid value encountered in divide\n",
      "  probabilities /= normalizer\n"
     ]
    }
   ],
   "source": [
    "from sklearn.semi_supervised import LabelPropagation\n",
    "from sklearn.metrics import accuracy_score, precision_score, recall_score, f1_score\n",
    "import numpy as np\n",
    "\n",
    "pseudo_labels = np.full(len(ud), -1)\n",
    "\n",
    "combined_X = np.concatenate((x,ud), axis=0)\n",
    "combined_y = np.concatenate((y,pseudo_labels), axis=0)\n",
    "\n",
    "label_propagation_model = LabelPropagation(kernel='knn', n_neighbors=5, gamma=30, max_iter=2000)\n",
    "print(pseudo_labels.dtype)\n",
    "label_propagation_model.fit(combined_X, combined_y)\n",
    "\n",
    "predicted_labels_labeled_data = label_propagation_model.predict(x)\n",
    "\n",
    "predicted_labels_unlabeled_data = label_propagation_model.predict(ud)\n",
    "\n",
    "predicted_labels_combined = np.concatenate((predicted_labels_labeled_data, predicted_labels_unlabeled_data), axis=0)\n",
    "\n",
    "accuracy = accuracy_score(y, predicted_labels_labeled_data)\n",
    "precision = precision_score(y, predicted_labels_labeled_data, average='weighted')\n",
    "recall = recall_score(y, predicted_labels_labeled_data, average='weighted')\n",
    "f1 = f1_score(y, predicted_labels_labeled_data, average='weighted')\n",
    "\n",
    "print(f\"Accuracy on labeled data: {accuracy}\")\n",
    "print(f\"Precision on labeled data: {precision}\")\n",
    "print(f\"Recall on labeled data: {recall}\")\n",
    "print(f\"F1-score on labeled data: {f1}\")"
   ]
  },
  {
   "cell_type": "code",
   "execution_count": 79,
   "id": "556c9f8b-ef05-4ed8-9849-427f5eb2fb59",
   "metadata": {},
   "outputs": [
    {
     "name": "stdout",
     "output_type": "stream",
     "text": [
      "(100000, 8)\n",
      "[0 0 1 1 0 0 0 0]\n"
     ]
    },
    {
     "name": "stderr",
     "output_type": "stream",
     "text": [
      "C:\\Users\\lenovo\\AppData\\Local\\Programs\\Python\\Python312\\Lib\\site-packages\\sklearn\\base.py:458: UserWarning: X has feature names, but LabelPropagation was fitted without feature names\n",
      "  warnings.warn(\n"
     ]
    }
   ],
   "source": [
    "new_data_predictions = label_propagation_model.predict(x[47:55])\n",
    "print(x.shape)\n",
    "print(new_data_predictions)"
   ]
  },
  {
   "cell_type": "markdown",
   "id": "4c32e3fd-63ee-4ddf-8764-3db299a309cc",
   "metadata": {},
   "source": [
    "# 5 cross validation:"
   ]
  },
  {
   "cell_type": "code",
   "execution_count": null,
   "id": "e0249d01-207f-4d07-a504-83d54d25ad13",
   "metadata": {},
   "outputs": [],
   "source": [
    "from sklearn.model_selection import StratifiedKFold\n",
    "\n",
    "stratified_kfold = StratifiedKFold(n_splits=5, shuffle=True, random_state=42)\n",
    "cv_accuracies = []\n",
    "cv_f1_scores = []\n",
    "cv_precisions=[]\n",
    "cv_recalls=[]\n",
    "\n",
    "knn = KNeighborsClassifier() \n",
    "\n",
    "for train_index, test_index in stratified_kfold.split(x_train_knn, y_train_knn):\n",
    "    x_train_fold, x_test_fold = x_train_knn.iloc[train_index], x_train_knn.iloc[test_index]\n",
    "    y_train_fold, y_test_fold = y_train_knn.iloc[train_index], y_train_knn.iloc[test_index]\n",
    "    \n",
    "    knn.fit(x_train_fold, y_train_fold)\n",
    "    \n",
    "    y_pred = knn.predict(x_test_fold)\n",
    "    accuracy_fold = accuracy_score(y_test_fold, y_pred)\n",
    "    f1_fold = f1_score(y_test_fold, y_pred, average='weighted')\n",
    "    precision = precision_score(y_test_fold, y_pred, average='weighted')\n",
    "    recall = recall_score(y_test_fold, y_pred, average='weighted')\n",
    "\n",
    "    cv_accuracies.append(accuracy_fold)\n",
    "    cv_f1_scores.append(f1_fold)\n",
    "    cv_precisions.append(precision)\n",
    "    cv_recalls.append(recall)\n",
    "\n",
    "print(f'Precision: {cv_precisions}')\n",
    "print(\"Mean Precisions:\", np.mean(cv_precisions))\n",
    "print(f'Recall: {cv_recalls}')\n",
    "print(\"Mean Recall:\", np.mean(cv_recalls))\n",
    "print(\"Cross-Validation Accuracies:\", cv_accuracies)\n",
    "print(\"Mean Accuracy:\", np.mean(cv_accuracies))\n",
    "print(\"Cross-Validation F1 Scores:\", cv_f1_scores)\n",
    "print(\"Mean F1 Score:\", np.mean(cv_f1_scores))\n"
   ]
  },
  {
   "cell_type": "code",
   "execution_count": null,
   "id": "0add17c2-6de8-4d4a-aba2-b94278beee44",
   "metadata": {},
   "outputs": [],
   "source": [
    "stratified_kfold = StratifiedKFold(n_splits=5, shuffle=True, random_state=42)\n",
    "cv_accuracies = []\n",
    "cv_f1_scores = []\n",
    "cv_precisions=[]\n",
    "cv_recalls=[]\n",
    "\n",
    "nb = GaussianNB()\n",
    "\n",
    "for train_index, test_index in stratified_kfold.split(x_train_nb, y_train_nb):\n",
    "    x_train_fold, x_test_fold = x_train_nb.iloc[train_index], x_train_nb.iloc[test_index]\n",
    "    y_train_fold, y_test_fold = y_train_nb.iloc[train_index], y_train_nb.iloc[test_index]\n",
    "    \n",
    "    nb.fit(x_train_fold, y_train_fold)\n",
    "    \n",
    "    y_pred = nb.predict(x_test_fold)\n",
    "    accuracy_fold = accuracy_score(y_test_fold, y_pred)\n",
    "    f1_fold = f1_score(y_test_fold, y_pred, average='weighted')\n",
    "    precision = precision_score(y_test_fold, y_pred, average='weighted')\n",
    "    recall = recall_score(y_test_fold, y_pred, average='weighted')\n",
    "    \n",
    "    cv_accuracies.append(accuracy_fold)\n",
    "    cv_f1_scores.append(f1_fold)\n",
    "    cv_precisions.append(precision)\n",
    "    cv_recalls.append(recall)\n",
    "\n",
    "print(f'Precision: {cv_precisions}')\n",
    "print(\"Mean Precisions:\", np.mean(cv_precisions))\n",
    "print(f'Recall: {cv_recalls}')\n",
    "print(\"Mean Recall:\", np.mean(cv_recalls)) \n",
    "print(\"Cross-Validation Accuracies:\", cv_accuracies)\n",
    "print(\"Mean Accuracy:\", np.mean(cv_accuracies))\n",
    "print(\"Cross-Validation F1 Scores:\", cv_f1_scores)\n",
    "print(\"Mean F1 Score:\", np.mean(cv_f1_scores))"
   ]
  },
  {
   "cell_type": "code",
   "execution_count": null,
   "id": "99b4a452-da0c-435b-bb64-bdc9ed2d1ea9",
   "metadata": {},
   "outputs": [],
   "source": [
    "stratified_kfold = StratifiedKFold(n_splits=5, shuffle=True, random_state=42)\n",
    "import io\n",
    "from io import StringIO\n",
    "import sys\n",
    "cv_accuracies = []\n",
    "cv_f1_scores = []\n",
    "cv_precisions=[]\n",
    "cv_recalls=[]\n",
    "\n",
    "lr = LogisticRegression()\n",
    "\n",
    "for train_index, test_index in stratified_kfold.split(x_train_lr, y_train_lr):\n",
    "    x_train_fold, x_test_fold = x_train_lr.iloc[train_index], x_train_lr.iloc[test_index]\n",
    "    y_train_fold, y_test_fold = y_train_lr.iloc[train_index], y_train_lr.iloc[test_index]\n",
    "\n",
    "    logistic_reg.fit(x_train_lr,y_train_lr)\n",
    "    \n",
    "    y_pred = lr.predict(x_test_fold)\n",
    "    accuracy_fold = accuracy_score(y_test_fold, y_pred)\n",
    "    f1_fold = f1_score(y_test_fold, y_pred, average='weighted')\n",
    "    precision = precision_score(y_test_fold, y_pred, average='weighted')\n",
    "    recall = recall_score(y_test_fold, y_pred, average='weighted')\n",
    "    \n",
    "    cv_accuracies.append(accuracy_fold)\n",
    "    cv_f1_scores.append(f1_fold)\n",
    "    cv_precisions.append(precision)\n",
    "    cv_recalls.append(recall)\n",
    "\n",
    "print(f'Precision: {cv_precisions}')\n",
    "print(\"Mean Precisions:\", np.mean(cv_precisions))\n",
    "print(f'Recall: {cv_recalls}')\n",
    "print(\"Mean Recall:\", np.mean(cv_recalls))\n",
    "print(\"Cross-Validation Accuracies:\", cv_accuracies)\n",
    "print(\"Mean Accuracy:\", np.mean(cv_accuracies))\n",
    "print(\"Cross-Validation F1 Scores:\", cv_f1_scores)\n",
    "print(\"Mean F1 Score:\", np.mean(cv_f1_scores))\n"
   ]
  },
  {
   "cell_type": "code",
   "execution_count": null,
   "id": "0f988807-740b-4177-8ebd-014be45b98c8",
   "metadata": {},
   "outputs": [],
   "source": [
    "old_stdout = sys.stdout\n",
    "sys.stdout = mystdout = StringIO()\n",
    "lr.fit(x_train_lr, y_train_lr)\n",
    "sys.stdout = old_stdout\n",
    "loss_history = mystdout.getvalue()\n",
    "loss_list = []\n",
    "for line in loss_history.split('\\n'):\n",
    "    if(len(line.split(\"loss: \")) == 1):\n",
    "        continue\n",
    "    loss_list.append(float(line.split(\"loss: \")[-1]))\n",
    "print(np.array(loss_list))"
   ]
  }
 ],
 "metadata": {
  "kernelspec": {
   "display_name": "Python 3 (ipykernel)",
   "language": "python",
   "name": "python3"
  },
  "language_info": {
   "codemirror_mode": {
    "name": "ipython",
    "version": 3
   },
   "file_extension": ".py",
   "mimetype": "text/x-python",
   "name": "python",
   "nbconvert_exporter": "python",
   "pygments_lexer": "ipython3",
   "version": "3.12.0"
  }
 },
 "nbformat": 4,
 "nbformat_minor": 5
}
